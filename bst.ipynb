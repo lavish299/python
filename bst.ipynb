{
 "metadata": {
  "language_info": {
   "codemirror_mode": {
    "name": "ipython",
    "version": 3
   },
   "file_extension": ".py",
   "mimetype": "text/x-python",
   "name": "python",
   "nbconvert_exporter": "python",
   "pygments_lexer": "ipython3",
   "version": 3
  },
  "orig_nbformat": 2,
  "kernelspec": {
   "name": "python_defaultSpec_1596492844772",
   "display_name": "Python 3.8.3 32-bit"
  }
 },
 "nbformat": 4,
 "nbformat_minor": 2,
 "cells": [
  {
   "cell_type": "code",
   "execution_count": 187,
   "metadata": {},
   "outputs": [],
   "source": [
    "class Node():\n",
    "    def __init__(self,value):\n",
    "        self.value=value\n",
    "        self.left=None\n",
    "        self.right=None\n",
    "\n",
    "    def __str__(self):\n",
    "        return str(self.value)\n",
    "\n",
    "    def __repr__(self):\n",
    "        return str(self.value)"
   ]
  },
  {
   "cell_type": "code",
   "execution_count": 275,
   "metadata": {},
   "outputs": [],
   "source": [
    "class BinarySearchTree():\n",
    "    def __init__(self):\n",
    "        self.root=None\n",
    "\n",
    "    def insert(self,root,value):\n",
    "        print(self,root,value)\n",
    "        if root is None:\n",
    "            print('In None')\n",
    "            root=Node(value)\n",
    "            return root\n",
    "        elif root.value>value:\n",
    "            print('elif')\n",
    "            self.root.left=self.insert(self.root.left,value)\n",
    "        else:\n",
    "            print('in else')\n",
    "            self.root.right=self.insert(self.root.right,value)"
   ]
  },
  {
   "cell_type": "code",
   "execution_count": 276,
   "metadata": {
    "tags": []
   },
   "outputs": [
    {
     "output_type": "stream",
     "name": "stdout",
     "text": "inserting 10\n<__main__.BinarySearchTree object at 0x07190E08> None 10\nIn None\ninserting 5\n<__main__.BinarySearchTree object at 0x07190E08> None 5\nIn None\ninserting 12\n"
    }
   ],
   "source": [
    "l=BinarySearchTree()\n",
    "print('inserting 10')\n",
    "l.insert(l.root,10)\n",
    "print('inserting 5')\n",
    "l.insert(l.root,5)\n",
    "print('inserting 12')\n",
    "# l.insert(l.root,12)"
   ]
  },
  {
   "cell_type": "code",
   "execution_count": 277,
   "metadata": {},
   "outputs": [],
   "source": [
    "l.root"
   ]
  },
  {
   "cell_type": "code",
   "execution_count": null,
   "metadata": {},
   "outputs": [],
   "source": []
  },
  {
   "cell_type": "code",
   "execution_count": null,
   "metadata": {},
   "outputs": [],
   "source": []
  },
  {
   "cell_type": "code",
   "execution_count": null,
   "metadata": {},
   "outputs": [],
   "source": []
  },
  {
   "cell_type": "code",
   "execution_count": null,
   "metadata": {},
   "outputs": [],
   "source": []
  },
  {
   "cell_type": "code",
   "execution_count": null,
   "metadata": {},
   "outputs": [],
   "source": []
  },
  {
   "cell_type": "code",
   "execution_count": 65,
   "metadata": {},
   "outputs": [],
   "source": [
    "t=BinarySearchTree()\n",
    "t.root=Node(10)\n",
    "t.root.right=Node(15)\n",
    "t.root.left=Node(7)\n",
    "t.root.left.right=Node(9)\n"
   ]
  },
  {
   "cell_type": "code",
   "execution_count": 66,
   "metadata": {
    "tags": []
   },
   "outputs": [],
   "source": [
    "def insert(t,value):\n",
    "    new=Node(value)\n",
    "    if t==None:\n",
    "        t.root=new\n",
    "        return None\n",
    "    elif value < t.root.value:\n",
    "        print(t.root.value)\n",
    "        insert(t.root.left,value)"
   ]
  }
 ]
}