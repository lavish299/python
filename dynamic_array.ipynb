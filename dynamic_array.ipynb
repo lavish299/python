{
 "metadata": {
  "language_info": {
   "codemirror_mode": {
    "name": "ipython",
    "version": 3
   },
   "file_extension": ".py",
   "mimetype": "text/x-python",
   "name": "python",
   "nbconvert_exporter": "python",
   "pygments_lexer": "ipython3",
   "version": 3
  },
  "orig_nbformat": 2,
  "kernelspec": {
   "name": "python_defaultSpec_1596277342014",
   "display_name": "Python 3.8.3 32-bit"
  }
 },
 "nbformat": 4,
 "nbformat_minor": 2,
 "cells": [
  {
   "cell_type": "code",
   "execution_count": 5,
   "metadata": {},
   "outputs": [],
   "source": [
    "import ctypes\n",
    "import sys"
   ]
  },
  {
   "cell_type": "code",
   "execution_count": 15,
   "metadata": {},
   "outputs": [],
   "source": [
    "class DynamicArray(object):\n",
    "\n",
    "    def __init__(self):\n",
    "        self.n=0\n",
    "        self.capacity=1 \n",
    "        self.A=self.make_array(self.capacity)\n",
    "\n",
    "    def __len__(self):\n",
    "        return self.n\n",
    "\n",
    "    def __getitem__(self,k):\n",
    "        if 0 <= k < self.n:\n",
    "            return self.A[k]\n",
    "        return IndexError('K is out of bounds')\n",
    "\n",
    "\n",
    "    def append(self,ele):\n",
    "        if self.capacity==self.n:\n",
    "            self._resize(2*self.capacity)\n",
    "        self.A[self.n]=ele\n",
    "        self.n+=1\n",
    "    \n",
    "    def _resize(self,new_size):\n",
    "        B=self.make_array(new_size)\n",
    "        for i in range(self.n):\n",
    "            B[i]=self.A[i]\n",
    "        self.A=B\n",
    "        self.capacity=new_size\n",
    "\n",
    "    def make_array(self,size):\n",
    "        return (size*ctypes.py_object)()\n"
   ]
  },
  {
   "cell_type": "code",
   "execution_count": 16,
   "metadata": {
    "tags": []
   },
   "outputs": [],
   "source": [
    "A=DynamicArray()"
   ]
  },
  {
   "cell_type": "code",
   "execution_count": 17,
   "metadata": {},
   "outputs": [],
   "source": [
    "A.append(2)"
   ]
  },
  {
   "cell_type": "code",
   "execution_count": 18,
   "metadata": {
    "tags": []
   },
   "outputs": [
    {
     "output_type": "stream",
     "name": "stdout",
     "text": "2\n"
    }
   ],
   "source": [
    "print(A[0])"
   ]
  },
  {
   "cell_type": "code",
   "execution_count": null,
   "metadata": {},
   "outputs": [],
   "source": []
  }
 ]
}