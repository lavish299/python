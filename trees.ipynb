{
 "metadata": {
  "language_info": {
   "codemirror_mode": {
    "name": "ipython",
    "version": 3
   },
   "file_extension": ".py",
   "mimetype": "text/x-python",
   "name": "python",
   "nbconvert_exporter": "python",
   "pygments_lexer": "ipython3",
   "version": 3
  },
  "orig_nbformat": 2
 },
 "nbformat": 4,
 "nbformat_minor": 2,
 "cells": [
  {
   "cell_type": "code",
   "execution_count": null,
   "metadata": {},
   "outputs": [],
   "source": [
    "class BinaryTree(object):\n",
    "\n",
    "    def __init__(self,rootobj):\n",
    "        self.key=rootobj\n",
    "        self.leftchild=None\n",
    "        self.rightchild=None\n",
    "\n",
    "    def insertleft(self,newnode):\n",
    "        if self.leftchild==None:\n",
    "            self.leftchild=BinaryTree(newnode)\n",
    "        else:\n",
    "            t=BinaryTree(newnode)\n",
    "            t.leftchild=self.leftchild\n",
    "            self.leftchild=t\n",
    "\n",
    "    def insertright(self,newnode):\n",
    "        if self.rightchild==None:\n",
    "            self.rightchild=BinaryTree(newnode)\n",
    "        else:\n",
    "            t=BinaryTree(newnode)\n",
    "            t.rightchild=self.rightchild\n",
    "            self.rightchild=t\n",
    "    \n",
    "    def getrightchild(self):\n",
    "        return self.rightchild\n",
    "\n",
    "    def getleftchild(self):\n",
    "        return self.leftchild\n",
    "    \n",
    "    def setnode(self,newnode):\n",
    "        self.key=newnode"
   ]
  }
 ]
}