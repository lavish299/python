{
 "metadata": {
  "language_info": {
   "codemirror_mode": {
    "name": "ipython",
    "version": 3
   },
   "file_extension": ".py",
   "mimetype": "text/x-python",
   "name": "python",
   "nbconvert_exporter": "python",
   "pygments_lexer": "ipython3",
   "version": 3
  },
  "orig_nbformat": 2,
  "kernelspec": {
   "name": "python_defaultSpec_1595962327883",
   "display_name": "Python 3.8.3 32-bit"
  }
 },
 "nbformat": 4,
 "nbformat_minor": 2,
 "cells": [
  {
   "cell_type": "code",
   "execution_count": 16,
   "metadata": {},
   "outputs": [],
   "source": [
    "class BinaryTree(object):\n",
    "\n",
    "    def __init__(self,rootobj):\n",
    "        self.key=rootobj\n",
    "        self.leftchild=None\n",
    "        self.rightchild=None\n",
    "\n",
    "    def insertleft(self,newnode):\n",
    "        if self.leftchild==None:\n",
    "            self.leftchild=BinaryTree(newnode)\n",
    "        else:\n",
    "            t=BinaryTree(newnode)\n",
    "            t.leftchild=self.leftchild\n",
    "            self.leftchild=t\n",
    "\n",
    "    def insertright(self,newnode):\n",
    "        if self.rightchild==None:\n",
    "            self.rightchild=BinaryTree(newnode)\n",
    "        else:\n",
    "            t=BinaryTree(newnode)\n",
    "            t.rightchild=self.rightchild\n",
    "            self.rightchild=t\n",
    "    \n",
    "    def getrightchild(self):\n",
    "        return self.rightchild\n",
    "\n",
    "    def getleftchild(self):\n",
    "        return self.leftchild\n",
    "    \n",
    "    def setnode(self,newnode):\n",
    "        self.key=newnode\n",
    "    \n",
    "    def setrootval(self,newnode):\n",
    "        self.key=obj\n",
    "\n",
    "    def getRootVal(self):\n",
    "        return self.key"
   ]
  },
  {
   "cell_type": "code",
   "execution_count": 17,
   "metadata": {},
   "outputs": [],
   "source": [
    "t=BinaryTree('a')"
   ]
  },
  {
   "cell_type": "code",
   "execution_count": 18,
   "metadata": {},
   "outputs": [],
   "source": [
    "t.insertleft('b')"
   ]
  },
  {
   "cell_type": "code",
   "execution_count": 19,
   "metadata": {
    "tags": []
   },
   "outputs": [
    {
     "output_type": "stream",
     "name": "stdout",
     "text": "<__main__.BinaryTree object at 0x076E3E50>\n"
    }
   ],
   "source": [
    "print(t)"
   ]
  },
  {
   "cell_type": "code",
   "execution_count": 21,
   "metadata": {
    "tags": []
   },
   "outputs": [
    {
     "output_type": "stream",
     "name": "stdout",
     "text": "b\n"
    }
   ],
   "source": [
    "print(t.getleftchild().getRootVal())"
   ]
  },
  {
   "cell_type": "code",
   "execution_count": null,
   "metadata": {},
   "outputs": [],
   "source": []
  }
 ]
}