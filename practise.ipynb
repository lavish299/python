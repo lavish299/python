{
 "metadata": {
  "language_info": {
   "codemirror_mode": {
    "name": "ipython",
    "version": 3
   },
   "file_extension": ".py",
   "mimetype": "text/x-python",
   "name": "python",
   "nbconvert_exporter": "python",
   "pygments_lexer": "ipython3",
   "version": "3.7.6-final"
  },
  "orig_nbformat": 2,
  "kernelspec": {
   "name": "python_defaultSpec_1596205285401",
   "display_name": "Python 3.7.6 64-bit ('base': conda)"
  }
 },
 "nbformat": 4,
 "nbformat_minor": 2,
 "cells": [
  {
   "cell_type": "code",
   "execution_count": 20,
   "metadata": {},
   "outputs": [],
   "source": [
    "import sys\n",
    "import numpy as np"
   ]
  },
  {
   "cell_type": "code",
   "execution_count": 31,
   "metadata": {
    "tags": []
   },
   "outputs": [
    {
     "output_type": "stream",
     "name": "stdout",
     "text": "104\n112\n112\n64\nLength:  0  ,Size:  96\nLength:  1  ,Size:  96\nLength:  2  ,Size:  96\nLength:  3  ,Size:  96\nLength:  4  ,Size:  128\nLength:  5  ,Size:  128\nLength:  6  ,Size:  128\nLength:  7  ,Size:  128\nLength:  8  ,Size:  192\nLength:  9  ,Size:  192\n"
    }
   ],
   "source": [
    "list1=[1,2,3,4,5]\n",
    "print(sys.getsizeof(list1))\n",
    "list1=[1,2,3,4,5,6]\n",
    "print(sys.getsizeof(list1))\n",
    "list2=['dell','hp','apple','facebook','amazon','tesla']\n",
    "print(sys.getsizeof(list2))\n",
    "list3=[]\n",
    "print(sys.getsizeof(list3))\n",
    "list1=[]\n",
    "for i in range(10):\n",
    "    list1.append(i)\n",
    "    print(\"Length: \",i,\" ,Size: \",sys.getsizeof(list1))"
   ]
  },
  {
   "cell_type": "code",
   "execution_count": 44,
   "metadata": {
    "tags": []
   },
   "outputs": [
    {
     "output_type": "stream",
     "name": "stdout",
     "text": "96\n116\n120\n0   104\n1   112\n2   120\n3   128\n4   136\n5   144\n6   152\n7   160\n8   168\n9   176\n"
    }
   ],
   "source": [
    "arr1=np.array([])\n",
    "print(sys.getsizeof(arr1))\n",
    "arr1=np.array([1,2,3,4,5])\n",
    "print(sys.getsizeof(arr1))\n",
    "arr1=np.array([1,2,3,4,5,6])\n",
    "print(sys.getsizeof(arr1))\n",
    "arr1=np.array([])\n",
    "for i in range(10):\n",
    "    arr1=np.append(arr1,i)\n",
    "    # print(arr1)\n",
    "    print(i,\" \",sys.getsizeof(arr1))\n",
    "    \n"
   ]
  },
  {
   "cell_type": "code",
   "execution_count": null,
   "metadata": {},
   "outputs": [],
   "source": []
  }
 ]
}