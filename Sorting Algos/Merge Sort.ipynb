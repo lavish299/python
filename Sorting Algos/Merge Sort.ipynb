{
 "cells": [
  {
   "cell_type": "markdown",
   "metadata": {},
   "source": [
    "Merge Sort"
   ]
  },
  {
   "cell_type": "code",
   "execution_count": 42,
   "metadata": {},
   "outputs": [],
   "source": [
    "def merge(arr1,arr2):\n",
    "    print('merge',arr1,arr2)\n",
    "    arr3=[]\n",
    "    i=0\n",
    "    j=0\n",
    "    while i<len(arr1) and j<len(arr2):\n",
    "        if arr1[i]<arr2[j]:\n",
    "            arr3.append(arr1[i])\n",
    "            i+=1\n",
    "        else:\n",
    "            arr3.append(arr2[j])\n",
    "            j+=1\n",
    "    while i<len(arr1):\n",
    "        arr3.append(arr1[i])\n",
    "        i+=1\n",
    "    \n",
    "    while j<len(arr2):\n",
    "        arr3.append(arr2[j])\n",
    "        j+=1\n",
    "    return arr3\n"
   ]
  },
  {
   "cell_type": "code",
   "execution_count": 43,
   "metadata": {
    "tags": []
   },
   "outputs": [
    {
     "output_type": "stream",
     "name": "stdout",
     "text": "merge [1, 4, 6, 8] [2, 3, 4, 7, 9]\n[1, 2, 3, 4, 4, 6, 7, 8, 9]\n"
    }
   ],
   "source": [
    "print(merge([1,4,6,8],[2,3,4,7,9]))"
   ]
  },
  {
   "cell_type": "code",
   "execution_count": 58,
   "metadata": {},
   "outputs": [],
   "source": [
    "def merge_sort(arr):\n",
    "    if len(arr)>1:\n",
    "        mid=int(len(arr)/2)\n",
    "        left_arr=arr[:mid]\n",
    "        right_arr=arr[mid:]\n",
    "        merge_sort(left_arr)\n",
    "        merge_sort(right_arr)\n",
    "        i=0\n",
    "        j=0\n",
    "        k=0\n",
    "        while i<len(left_arr) and j<len(right_arr):\n",
    "            if left_arr[i]<right_arr[j]:\n",
    "                arr[k]=(left_arr[i])\n",
    "                i+=1\n",
    "                k+=1\n",
    "            else:\n",
    "                arr[k]=(right_arr[j])\n",
    "                j+=1\n",
    "                k+=1\n",
    "        while i<len(left_arr):\n",
    "            arr[k]=(left_arr[i])\n",
    "            i+=1\n",
    "            k+=1\n",
    "        \n",
    "        while j<len(right_arr):\n",
    "            arr[k]=(right_arr[j])\n",
    "            j+=1\n",
    "            k+=1       "
   ]
  },
  {
   "cell_type": "code",
   "execution_count": 60,
   "metadata": {
    "tags": []
   },
   "outputs": [
    {
     "output_type": "stream",
     "name": "stdout",
     "text": "[1, 2, 3, 4, 5, 6, 8]\n"
    }
   ],
   "source": [
    "arr=[1,5,4,2,3,8,6]\n",
    "arr2=merge_sort(arr)\n",
    "print(arr)\n",
    "# print(arr)"
   ]
  },
  {
   "cell_type": "code",
   "execution_count": null,
   "metadata": {},
   "outputs": [],
   "source": [
    "def merge_sort(arr):\n",
    "    if len(arr)>1:\n",
    "        print('arr',arr)\n",
    "        mid=int(len(arr)/2)\n",
    "        left_arr=arr[:mid]\n",
    "        right_arr=arr[mid:]\n",
    "        merge_sort(left_arr)\n",
    "        merge_sort(right_arr)\n",
    "        print(left_arr,right_arr)\n",
    "        # i=0\n",
    "        # j=0\n",
    "        # k=0\n",
    "        arr=merge(left_arr,right_arr)\n",
    "        print(arr)\n",
    "        return arr\n",
    "        # while i<len(left_arr) and j<len(right_arr):\n",
    "        #     if left_arr[i]<right_arr[j]:\n",
    "        #         arr[k]=(left_arr[i])\n",
    "        #         i+=1\n",
    "        #         k+=1\n",
    "        #     else:\n",
    "        #         arr[k]=(right_arr[j])\n",
    "        #         j+=1\n",
    "        #         k+=1\n",
    "        # while i<len(left_arr):\n",
    "        #     arr[k]=(left_arr[i])\n",
    "        #     i+=1\n",
    "        #     k+=1\n",
    "        \n",
    "        # while j<len(right_arr):\n",
    "        #     arr[k]=(right_arr[j])\n",
    "        #     j+=1\n",
    "        #     k+=1       \n",
    "    else:\n",
    "        print('else',arr)\n",
    "        return arrdef merge_sort(arr):\n",
    "    if len(arr)>1:\n",
    "        print('arr',arr)\n",
    "        mid=int(len(arr)/2)\n",
    "        left_arr=arr[:mid]\n",
    "        right_arr=arr[mid:]\n",
    "        merge_sort(left_arr)\n",
    "        merge_sort(right_arr)\n",
    "        print(left_arr,right_arr)\n",
    "        # i=0\n",
    "        # j=0\n",
    "        # k=0\n",
    "        arr=merge(left_arr,right_arr)\n",
    "        print(arr)\n",
    "        return arr\n",
    "        # while i<len(left_arr) and j<len(right_arr):\n",
    "        #     if left_arr[i]<right_arr[j]:\n",
    "        #         arr[k]=(left_arr[i])\n",
    "        #         i+=1\n",
    "        #         k+=1\n",
    "        #     else:\n",
    "        #         arr[k]=(right_arr[j])\n",
    "        #         j+=1\n",
    "        #         k+=1\n",
    "        # while i<len(left_arr):\n",
    "        #     arr[k]=(left_arr[i])\n",
    "        #     i+=1\n",
    "        #     k+=1\n",
    "        \n",
    "        # while j<len(right_arr):\n",
    "        #     arr[k]=(right_arr[j])\n",
    "        #     j+=1\n",
    "        #     k+=1       \n",
    "    else:\n",
    "        print('else',arr)\n",
    "        return arr"
   ]
  }
 ],
 "metadata": {
  "kernelspec": {
   "display_name": "Python 3",
   "language": "python",
   "name": "python3"
  },
  "language_info": {
   "codemirror_mode": {
    "name": "ipython",
    "version": 3
   },
   "file_extension": ".py",
   "mimetype": "text/x-python",
   "name": "python",
   "nbconvert_exporter": "python",
   "pygments_lexer": "ipython3",
   "version": "3.7.6"
  }
 },
 "nbformat": 4,
 "nbformat_minor": 4
}