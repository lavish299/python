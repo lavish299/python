{
 "cells": [
  {
   "cell_type": "markdown",
   "metadata": {},
   "source": [
    "Merge Sort"
   ]
  },
  {
   "cell_type": "code",
   "execution_count": 42,
   "metadata": {},
   "outputs": [],
   "source": [
    "def merge(arr1,arr2):\n",
    "    print('merge',arr1,arr2)\n",
    "    arr3=[]\n",
    "    i=0\n",
    "    j=0\n",
    "    while i<len(arr1) and j<len(arr2):\n",
    "        if arr1[i]<arr2[j]:\n",
    "            arr3.append(arr1[i])\n",
    "            i+=1\n",
    "        else:\n",
    "            arr3.append(arr2[j])\n",
    "            j+=1\n",
    "    while i<len(arr1):\n",
    "        arr3.append(arr1[i])\n",
    "        i+=1\n",
    "    \n",
    "    while j<len(arr2):\n",
    "        arr3.append(arr2[j])\n",
    "        j+=1\n",
    "    return arr3\n"
   ]
  },
  {
   "cell_type": "code",
   "execution_count": 43,
   "metadata": {
    "tags": []
   },
   "outputs": [
    {
     "output_type": "stream",
     "name": "stdout",
     "text": "merge [1, 4, 6, 8] [2, 3, 4, 7, 9]\n[1, 2, 3, 4, 4, 6, 7, 8, 9]\n"
    }
   ],
   "source": [
    "print(merge([1,4,6,8],[2,3,4,7,9]))"
   ]
  },
  {
   "cell_type": "code",
   "execution_count": 58,
   "metadata": {},
   "outputs": [],
   "source": [
    "def merge_sort(arr):\n",
    "    if len(arr)>1:\n",
    "        mid=int(len(arr)/2)\n",
    "        left_arr=arr[:mid]\n",
    "        right_arr=arr[mid:]\n",
    "        merge_sort(left_arr)\n",
    "        merge_sort(right_arr)\n",
    "        i=0\n",
    "        j=0\n",
    "        k=0\n",
    "        while i<len(left_arr) and j<len(right_arr):\n",
    "            if left_arr[i]<right_arr[j]:\n",
    "                arr[k]=(left_arr[i])\n",
    "                i+=1\n",
    "                k+=1\n",
    "            else:\n",
    "                arr[k]=(right_arr[j])\n",
    "                j+=1\n",
    "                k+=1\n",
    "        while i<len(left_arr):\n",
    "            arr[k]=(left_arr[i])\n",
    "            i+=1\n",
    "            k+=1\n",
    "        \n",
    "        while j<len(right_arr):\n",
    "            arr[k]=(right_arr[j])\n",
    "            j+=1\n",
    "            k+=1       "
   ]
  },
  {
   "cell_type": "code",
   "execution_count": 68,
   "metadata": {
    "tags": []
   },
   "outputs": [
    {
     "output_type": "stream",
     "name": "stdout",
     "text": "arr [1, 5, 4, 2, 3, 8, 6]\narr [1, 5, 4]\nelse [1]\narr [5, 4]\nelse [5]\nelse [4]\n[5] [4]\nmerge [4] [5]\n[4, 5]\n[1] [5, 4]\nmerge [5, 4] [1]\n[1, 5, 4]\narr [2, 3, 8, 6]\narr [2, 3]\nelse [2]\nelse [3]\n[2] [3]\nmerge [3] [2]\n[2, 3]\narr [8, 6]\nelse [8]\nelse [6]\n[8] [6]\nmerge [6] [8]\n[6, 8]\n[2, 3] [8, 6]\nmerge [8, 6] [2, 3]\n[2, 3, 8, 6]\n[1, 5, 4] [2, 3, 8, 6]\nmerge [2, 3, 8, 6] [1, 5, 4]\n[1, 2, 3, 5, 4, 8, 6]\n[1, 2, 3, 5, 4, 8, 6]\n"
    }
   ],
   "source": [
    "arr=[1,5,4,2,3,8,6]\n",
    "\n",
    "arr2=merge_sort(arr)\n",
    "print(arr2)\n",
    "# print(arr)"
   ]
  },
  {
   "cell_type": "code",
   "execution_count": 90,
   "metadata": {},
   "outputs": [],
   "source": [
    "def merge_sort(arr):\n",
    "    if len(arr)>1:\n",
    "        print('arr',arr)\n",
    "        mid=int(len(arr)/2)\n",
    "        left_arr=arr[:mid]\n",
    "        right_arr=arr[mid:]\n",
    "        left_arr=merge_sort(left_arr)\n",
    "        right_arr=merge_sort(right_arr)\n",
    "        # print(\"LR\",left_arr,right_arr)\n",
    "        arr_n=merge(left_arr,right_arr)\n",
    "        print('return',arr_n)\n",
    "        return arr_n\n",
    "    else:\n",
    "        arr_n=arr\n",
    "        print('else',arr_n)\n",
    "        return arr_n"
   ]
  },
  {
   "cell_type": "code",
   "execution_count": 91,
   "metadata": {
    "tags": []
   },
   "outputs": [
    {
     "output_type": "stream",
     "name": "stdout",
     "text": "arr [1, 5, 4, 2, 3, 8, 6, 9]\narr [1, 5, 4, 2]\narr [1, 5]\nelse [1]\nelse [5]\nmerge [1] [5]\nreturn [1, 5]\narr [4, 2]\nelse [4]\nelse [2]\nmerge [4] [2]\nreturn [2, 4]\nmerge [1, 5] [2, 4]\nreturn [1, 2, 4, 5]\narr [3, 8, 6, 9]\narr [3, 8]\nelse [3]\nelse [8]\nmerge [3] [8]\nreturn [3, 8]\narr [6, 9]\nelse [6]\nelse [9]\nmerge [6] [9]\nreturn [6, 9]\nmerge [3, 8] [6, 9]\nreturn [3, 6, 8, 9]\nmerge [1, 2, 4, 5] [3, 6, 8, 9]\nreturn [1, 2, 3, 4, 5, 6, 8, 9]\n[1, 2, 3, 4, 5, 6, 8, 9]\n"
    }
   ],
   "source": [
    "arr=[1,5,4,2,3,8,6,9]\n",
    "\n",
    "arr2=merge_sort(arr)\n",
    "print(arr2)\n",
    "# print(arr)"
   ]
  },
  {
   "cell_type": "code",
   "execution_count": null,
   "metadata": {},
   "outputs": [],
   "source": []
  }
 ],
 "metadata": {
  "kernelspec": {
   "display_name": "Python 3",
   "language": "python",
   "name": "python3"
  },
  "language_info": {
   "codemirror_mode": {
    "name": "ipython",
    "version": 3
   },
   "file_extension": ".py",
   "mimetype": "text/x-python",
   "name": "python",
   "nbconvert_exporter": "python",
   "pygments_lexer": "ipython3",
   "version": "3.7.6"
  }
 },
 "nbformat": 4,
 "nbformat_minor": 4
}